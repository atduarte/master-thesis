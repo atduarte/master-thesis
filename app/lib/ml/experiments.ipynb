{
 "cells": [
  {
   "cell_type": "code",
   "execution_count": 12,
   "metadata": {
    "collapsed": false
   },
   "outputs": [],
   "source": [
    "from sklearn import tree\n",
    "from sklearn.svm import SVC\n",
    "from sklearn.metrics import precision_score\n",
    "from sklearn.ensemble import RandomForestClassifier, AdaBoostClassifier\n",
    "from helpers import preview_tree\n",
    "from copy import copy\n",
    "import json\n",
    "import csv\n",
    "import math\n",
    "import re\n",
    "import numpy as np\n",
    "import matplotlib.pyplot as plt\n",
    "import random"
   ]
  },
  {
   "cell_type": "markdown",
   "metadata": {},
   "source": [
    "Let's get the data"
   ]
  },
  {
   "cell_type": "code",
   "execution_count": 13,
   "metadata": {
    "collapsed": false,
    "scrolled": true
   },
   "outputs": [],
   "source": [
    "with open('../../out/lang/results/x/history.csv', 'r') as f:\n",
    "    reader = csv.reader(f)\n",
    "    data = list(reader)"
   ]
  },
  {
   "cell_type": "markdown",
   "metadata": {},
   "source": [
    " "
   ]
  },
  {
   "cell_type": "markdown",
   "metadata": {},
   "source": [
    "Prepare\n",
    "=======\n",
    "\n",
    "Let's remove columns, convert to float, separate train, test & validation data and separate labels."
   ]
  },
  {
   "cell_type": "code",
   "execution_count": 14,
   "metadata": {
    "collapsed": false
   },
   "outputs": [],
   "source": [
    "# Change label\n",
    "label = '_mostChanged'\n",
    "label_index = 0\n",
    "\n",
    "for i, column in enumerate(data[0]) :\n",
    "    if (column == label) : \n",
    "        label_index = i\n",
    "        break\n",
    "        \n",
    "if (label_index == 0) :\n",
    "    print('Using the __changed label only...')\n",
    "\n",
    "for i, row in enumerate(data) :\n",
    "    if i == 0 : continue\n",
    "    row[0] = row[0][0] + row[label_index][0]"
   ]
  },
  {
   "cell_type": "code",
   "execution_count": 15,
   "metadata": {
    "collapsed": false
   },
   "outputs": [
    {
     "name": "stdout",
     "output_type": "stream",
     "text": [
      "   0 -> __date\n",
      "   1 -> _bytes\n",
      "   2 -> _lines\n",
      "   3 -> changes-fixes:date+size-weighted:normalized\n",
      "   4 -> changes-fixes:date+size-weighted:raw\n",
      "   5 -> changes-fixes:date-weighted:normalized\n",
      "   6 -> changes-fixes:date-weighted:raw\n",
      "   7 -> changes-fixes:normalized\n",
      "   8 -> changes-fixes:raw\n",
      "   9 -> changes-fixes:size-weighted:normalized\n",
      "  10 -> changes-fixes:size-weighted:raw\n",
      "  11 -> changes-others:date+size-weighted:normalized\n",
      "  12 -> changes-others:date+size-weighted:raw\n",
      "  13 -> changes-others:date-weighted:normalized\n",
      "  14 -> changes-others:date-weighted:raw\n",
      "  15 -> changes-others:normalized\n",
      "  16 -> changes-others:raw\n",
      "  17 -> changes-others:size-weighted:normalized\n",
      "  18 -> changes-others:size-weighted:raw\n",
      "  19 -> changes:date+size-weighted:normalized\n",
      "  20 -> changes:date+size-weighted:raw\n",
      "  21 -> changes:date-weighted:normalized\n",
      "  22 -> changes:date-weighted:raw\n",
      "  23 -> changes:normalized\n",
      "  24 -> changes:raw\n",
      "  25 -> changes:size-weighted:normalized\n",
      "  26 -> changes:size-weighted:raw\n"
     ]
    }
   ],
   "source": [
    "# Remove Columns\n",
    "def deleteColumns(regex, data) :\n",
    "    indexes = []\n",
    "    for i, row in enumerate(data[0]) :\n",
    "        if (i == 0) : continue\n",
    "        if (re.match(regex, row)) : indexes.append(i)\n",
    "                \n",
    "    for rowN, row in enumerate(data) : \n",
    "        for columnN in reversed(indexes) :\n",
    "            del data[rowN][columnN]\n",
    "        \n",
    "deleteColumns('^_mostChanged.*', data)\n",
    "deleteColumns('^__filename', data)\n",
    "\n",
    "# deleteColumns('^authorChanges.*', data)\n",
    "# deleteColumns('^authorChanges\\:\\:.*', data)\n",
    "# deleteColumns('.*\\:date\\+size\\-weighted.*', data)\n",
    "# deleteColumns('.*\\:date\\-weighted.*', data)\n",
    "# deleteColumns('.*\\:size\\-weighted.*', data)\n",
    "\n",
    "# deleteColumns('^changes$', data)\n",
    "# deleteColumns('^changes-fixes$', data)\n",
    "# deleteColumns('^changes-others$', data)\n",
    "\n",
    "# deleteColumns('.*\\:normalized.*', data)\n",
    "# deleteColumns('.*\\:raw.*', data)\n",
    "\n",
    "for i, a in enumerate(data[0]):\n",
    "    if (i == 0) : continue\n",
    "    print('%4d -> %s' % (i - 1, a))"
   ]
  },
  {
   "cell_type": "code",
   "execution_count": 16,
   "metadata": {
    "collapsed": false
   },
   "outputs": [],
   "source": [
    "# To Float\n",
    "for i, row in enumerate(data[1:]) :\n",
    "    for j, value in enumerate(row[1:]) :        \n",
    "        row[j+1] = float(value)"
   ]
  },
  {
   "cell_type": "markdown",
   "metadata": {},
   "source": [
    "# Understand the Data"
   ]
  },
  {
   "cell_type": "code",
   "execution_count": 18,
   "metadata": {
    "collapsed": false
   },
   "outputs": [
    {
     "name": "stderr",
     "output_type": "stream",
     "text": [
      "/usr/lib/python3/dist-packages/matplotlib/collections.py:549: FutureWarning: elementwise comparison failed; returning scalar instead, but in the future will perform elementwise comparison\n",
      "  if self._edgecolors == 'face':\n"
     ]
    }
   ],
   "source": [
    "def getColumn(data, name) :\n",
    "    for i, column in enumerate(data[0]) :\n",
    "        if (column == name) : \n",
    "            result = []\n",
    "            for k, row in enumerate(data[1:]) :\n",
    "                result.append(float(row[i]))\n",
    "            return result\n",
    "        \n",
    "X = np.array(getColumn(data, 'changes-fixes:normalized'))\n",
    "Y = np.array(getColumn(data, '__date'))\n",
    "\n",
    "# Y = np.random.normal(0, 2, len(X)) # getColumn(data, 'authors')\n",
    "\n",
    "Z = getColumn(data, '__changed')\n",
    "\n",
    "plt.scatter(X, Y, c=Z, s=100)\n",
    "plt.show()"
   ]
  },
  {
   "cell_type": "markdown",
   "metadata": {},
   "source": [
    "# Split"
   ]
  },
  {
   "cell_type": "code",
   "execution_count": 6,
   "metadata": {
    "collapsed": false
   },
   "outputs": [
    {
     "name": "stdout",
     "output_type": "stream",
     "text": [
      "26406 clean - 269 buggy => 26675 total\n"
     ]
    }
   ],
   "source": [
    "# Stratify\n",
    "data_clean = [row for row in data if row[0] == '00']\n",
    "data_buggy = [row for row in data if row[0] == '11']\n",
    "\n",
    "random.shuffle(data_clean)\n",
    "random.shuffle(data_buggy)\n",
    "\n",
    "print('%d clean - %d buggy => %d total' % (len(data_clean), len(data_buggy), len(data_clean) + len(data_buggy)))"
   ]
  },
  {
   "cell_type": "code",
   "execution_count": 8,
   "metadata": {
    "collapsed": false
   },
   "outputs": [],
   "source": [
    "# for i in range(len(data_buggy[0])) : \n",
    "#     print(data[0][i+1] + ' => ' + str(np.mean([row[i+1] for row in data_buggy]) - np.mean([row[i+1] for row in data_clean])))"
   ]
  },
  {
   "cell_type": "code",
   "execution_count": 7,
   "metadata": {
    "collapsed": false,
    "scrolled": true
   },
   "outputs": [
    {
     "name": "stdout",
     "output_type": "stream",
     "text": [
      "489 train - 8003 test => 8492 total\n"
     ]
    }
   ],
   "source": [
    "# Train + Test\n",
    "\n",
    "def slicePercentage(data, fromPerc, toPerc) : \n",
    "    return data[math.floor(len(data)*fromPerc) : math.floor(len(data)*toPerc)]\n",
    "\n",
    "def labelIt(data) :\n",
    "    labels = []\n",
    "    newData = []\n",
    "    for i, row in enumerate(data) :\n",
    "        labels.append(row[0])\n",
    "        newData.append(row[1:])\n",
    "    \n",
    "    return {'data': newData, 'labels': labels}\n",
    "\n",
    "breakpoint = len(data_buggy) * 0.7 * 1.6 / len(data_clean)\n",
    "train = labelIt(slicePercentage(data_clean, 0, breakpoint) + slicePercentage(data_buggy, 0, 0.7))\n",
    "test = labelIt(slicePercentage(data_clean, 0.7, 1) + slicePercentage(data_buggy, 0.7, 1))\n",
    "\n",
    "print('%d train - %d test => %d total' % (len(train['data']), len(test['data']), len(test['data']) + len(train['data'])))"
   ]
  },
  {
   "cell_type": "markdown",
   "metadata": {},
   "source": [
    " "
   ]
  },
  {
   "cell_type": "markdown",
   "metadata": {},
   "source": [
    "# Train"
   ]
  },
  {
   "cell_type": "code",
   "execution_count": 8,
   "metadata": {
    "collapsed": false
   },
   "outputs": [],
   "source": [
    "# clf = tree.DecisionTreeClassifier()\n",
    "# clf = SVC(C=1.0, class_weight=\"balanced\", probability=True, tol=0.02, verbose=False)\n",
    "clf = RandomForestClassifier(n_estimators=1000, n_jobs=2, class_weight=\"balanced\", criterion='entropy')\n",
    "# clf = AdaBoostClassifier()\n",
    "clf = clf.fit(train['data'], train['labels'])"
   ]
  },
  {
   "cell_type": "code",
   "execution_count": 9,
   "metadata": {
    "collapsed": false
   },
   "outputs": [
    {
     "name": "stdout",
     "output_type": "stream",
     "text": [
      "Predicting 6693 clean and 1310 buggy\n",
      "{'11': {'11': 61, '00': 20}, '00': {'11': 1249, '00': 6673}}\n"
     ]
    }
   ],
   "source": [
    "predictions = clf.predict(test['data']).tolist()\n",
    "print('Predicting %d clean and %d buggy' % (predictions.count('00'), predictions.count('11')))\n",
    "\n",
    "# analysis[trueLabel][prediction]\n",
    "analysis = {'00': {'00': 0, '11': 0}, '11': {'00': 0, '11': 0}}\n",
    "for i, prediction in enumerate(predictions) :\n",
    "    analysis[test['labels'][i]][prediction] += 1\n",
    "\n",
    "print(analysis)"
   ]
  },
  {
   "cell_type": "code",
   "execution_count": 10,
   "metadata": {
    "collapsed": false
   },
   "outputs": [
    {
     "name": "stdout",
     "output_type": "stream",
     "text": [
      "Buggy (81): mean = 66.19%; std = 21.39%\n",
      "Clean (26105): mean = 19.77%; std = 26.55%\n"
     ]
    }
   ],
   "source": [
    "def predictProbs(test_data) :\n",
    "    test_data = [row[1:] for row in test_data] # Remove label\n",
    "    predictions_proba = clf.predict_proba(test_data).tolist()\n",
    "    return [probs[1] for probs in predictions_proba]\n",
    "\n",
    "predict_buggy = predictProbs(slicePercentage(data_buggy, 0.7, 1))\n",
    "predict_clean = predictProbs(slicePercentage(data_clean, breakpoint, 1))\n",
    "\n",
    "print('Buggy (%d): mean = %.2f%%; std = %.2f%%' % (len(predict_buggy), np.mean(predict_buggy)*100, np.std(predict_buggy)*100))\n",
    "print('Clean (%d): mean = %.2f%%; std = %.2f%%' % (len(predict_clean), np.mean(predict_clean)*100, np.std(predict_clean)*100))"
   ]
  },
  {
   "cell_type": "code",
   "execution_count": 13,
   "metadata": {
    "collapsed": false
   },
   "outputs": [
    {
     "name": "stdout",
     "output_type": "stream",
     "text": [
      "23.017% - changes-fixes:date-weighted:raw\n",
      "11.427% - changes-fixes:date-weighted:normalized\n",
      "6.426% - changes-fixes:date+size-weighted:normalized\n",
      "5.588% - changes-fixes:date+size-weighted:raw\n",
      "4.147% - changes-fixes:normalized\n",
      "3.757% - changes-fixes:size-weighted:normalized\n",
      "3.666% - changes:date-weighted:normalized\n",
      "3.575% - changes-fixes:size-weighted:raw\n",
      "3.179% - changes:date+size-weighted:raw\n",
      "3.141% - changes:date+size-weighted:normalized\n",
      "2.962% - changes-fixes:raw\n",
      "2.705% - changes-others:date+size-weighted:raw\n",
      "2.589% - changes-others:date+size-weighted:normalized\n",
      "2.485% - changes-others:size-weighted:normalized\n",
      "2.253% - changes:size-weighted:normalized\n",
      "2.045% - changes-others:date-weighted:raw\n",
      "2.023% - changes-others:date-weighted:normalized\n",
      "1.922% - changes:date-weighted:raw\n",
      "1.901% - changes:normalized\n",
      "1.824% - changes:raw\n",
      "1.651% - changes-others:normalized\n",
      "1.575% - _bytes\n",
      "1.559% - changes-others:raw\n",
      "1.548% - changes-others:size-weighted:raw\n",
      "1.530% - _lines\n",
      "1.504% - changes:size-weighted:raw\n"
     ]
    }
   ],
   "source": [
    "from operator import itemgetter\n",
    "\n",
    "importances = []\n",
    "for i, importance in enumerate(clf.feature_importances_) :\n",
    "    importances.append([importance, data[0][i+1]])\n",
    "\n",
    "importances = sorted(importances, key=itemgetter(0), reverse=True)\n",
    "\n",
    "for i, row in enumerate(importances) :\n",
    "    print('%.3f%% - %s' % (row[0] * 100, row[1]))"
   ]
  },
  {
   "cell_type": "code",
   "execution_count": 14,
   "metadata": {
    "collapsed": true
   },
   "outputs": [],
   "source": [
    "# from sklearn import tree\n",
    "# from sklearn.externals.six import StringIO\n",
    "# import graphviz\n",
    "\n",
    "# def preview_tree(clf, class_names, feature_names) :\n",
    "#     dot_data = StringIO()\n",
    "#     tree.export_graphviz(clf, out_file=dot_data, \n",
    "#                          rotate=False, rounded=True, filled=True,\n",
    "#                          class_names=class_names, feature_names=feature_names)\n",
    "#     dot = graphviz.Source(dot_data.getvalue().replace('digraph Tree {', \"\"\"digraph Tree {\n",
    "#          node [ fontname=Arial, fontsize=8];\n",
    "#     \"\"\"))\n",
    "#     dot.render('x', view=True)\n"
   ]
  },
  {
   "cell_type": "code",
   "execution_count": 15,
   "metadata": {
    "collapsed": false,
    "scrolled": false
   },
   "outputs": [],
   "source": [
    "# preview_tree(clf.estimators_[0], ['clean', 'buggy'], data[0][1:])"
   ]
  }
 ],
 "metadata": {
  "kernelspec": {
   "display_name": "Python 3",
   "language": "python",
   "name": "python3"
  },
  "language_info": {
   "codemirror_mode": {
    "name": "ipython",
    "version": 3
   },
   "file_extension": ".py",
   "mimetype": "text/x-python",
   "name": "python",
   "nbconvert_exporter": "python",
   "pygments_lexer": "ipython3",
   "version": "3.4.3"
  }
 },
 "nbformat": 4,
 "nbformat_minor": 0
}
